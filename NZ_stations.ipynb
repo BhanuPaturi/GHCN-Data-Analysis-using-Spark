{
 "cells": [
  {
   "cell_type": "code",
   "execution_count": 1,
   "id": "5c7d1641-8b94-41f7-9dbe-a3c1a81a0b0e",
   "metadata": {},
   "outputs": [],
   "source": [
    "import pandas as pd\n",
    "import glob, os\n",
    "import matplotlib.pyplot as plt"
   ]
  },
  {
   "cell_type": "code",
   "execution_count": 2,
   "id": "1e7d8d1e-e594-4697-bad2-9fdc366d4d1c",
   "metadata": {},
   "outputs": [],
   "source": [
    "path = 'TMIN_TMAX_NZ'\n",
    "file = glob.glob(os.path.join(path,\"*.csv\"))\n",
    "nz_df = []\n",
    "for i in file:\n",
    "    nz_df.append(pd.read_csv(i,index_col=None))\n",
    "df=pd.concat(nz_df)"
   ]
  },
  {
   "cell_type": "code",
   "execution_count": 3,
   "id": "7f9ff7bc-6428-4914-9b4e-4464cfd83a4b",
   "metadata": {},
   "outputs": [],
   "source": [
    "columns = [\"ID\",\"NAME\",\"ELEMENT\",\"YEAR\",\"VALUE\"]\n",
    "Temp_NZ = df[columns]"
   ]
  },
  {
   "cell_type": "code",
   "execution_count": 4,
   "id": "e024c6eb-c0bd-42af-97ac-8b9ac6bc73fe",
   "metadata": {},
   "outputs": [
    {
     "data": {
      "text/html": [
       "<div>\n",
       "<style scoped>\n",
       "    .dataframe tbody tr th:only-of-type {\n",
       "        vertical-align: middle;\n",
       "    }\n",
       "\n",
       "    .dataframe tbody tr th {\n",
       "        vertical-align: top;\n",
       "    }\n",
       "\n",
       "    .dataframe thead th {\n",
       "        text-align: right;\n",
       "    }\n",
       "</style>\n",
       "<table border=\"1\" class=\"dataframe\">\n",
       "  <thead>\n",
       "    <tr style=\"text-align: right;\">\n",
       "      <th></th>\n",
       "      <th>ID</th>\n",
       "      <th>NAME</th>\n",
       "      <th>ELEMENT</th>\n",
       "      <th>YEAR</th>\n",
       "      <th>VALUE</th>\n",
       "    </tr>\n",
       "  </thead>\n",
       "  <tbody>\n",
       "    <tr>\n",
       "      <th>0</th>\n",
       "      <td>NZ000936150</td>\n",
       "      <td>HOKITIKA AERODROME</td>\n",
       "      <td>TMAX</td>\n",
       "      <td>2010</td>\n",
       "      <td>NaN</td>\n",
       "    </tr>\n",
       "    <tr>\n",
       "      <th>1</th>\n",
       "      <td>NZM00093110</td>\n",
       "      <td>AUCKLAND AERO AWS</td>\n",
       "      <td>TMAX</td>\n",
       "      <td>2010</td>\n",
       "      <td>NaN</td>\n",
       "    </tr>\n",
       "    <tr>\n",
       "      <th>2</th>\n",
       "      <td>NZM00093110</td>\n",
       "      <td>AUCKLAND AERO AWS</td>\n",
       "      <td>TMIN</td>\n",
       "      <td>2010</td>\n",
       "      <td>NaN</td>\n",
       "    </tr>\n",
       "    <tr>\n",
       "      <th>3</th>\n",
       "      <td>NZM00093678</td>\n",
       "      <td>KAIKOURA</td>\n",
       "      <td>TMAX</td>\n",
       "      <td>2010</td>\n",
       "      <td>NaN</td>\n",
       "    </tr>\n",
       "    <tr>\n",
       "      <th>4</th>\n",
       "      <td>NZM00093678</td>\n",
       "      <td>KAIKOURA</td>\n",
       "      <td>TMIN</td>\n",
       "      <td>2010</td>\n",
       "      <td>NaN</td>\n",
       "    </tr>\n",
       "    <tr>\n",
       "      <th>...</th>\n",
       "      <td>...</td>\n",
       "      <td>...</td>\n",
       "      <td>...</td>\n",
       "      <td>...</td>\n",
       "      <td>...</td>\n",
       "    </tr>\n",
       "    <tr>\n",
       "      <th>1507</th>\n",
       "      <td>NZM00093439</td>\n",
       "      <td>WELLINGTON AERO AWS</td>\n",
       "      <td>TMAX</td>\n",
       "      <td>2022</td>\n",
       "      <td>186.0</td>\n",
       "    </tr>\n",
       "    <tr>\n",
       "      <th>1508</th>\n",
       "      <td>NZM00093678</td>\n",
       "      <td>KAIKOURA</td>\n",
       "      <td>TMAX</td>\n",
       "      <td>2022</td>\n",
       "      <td>172.0</td>\n",
       "    </tr>\n",
       "    <tr>\n",
       "      <th>1509</th>\n",
       "      <td>NZM00093781</td>\n",
       "      <td>CHRISTCHURCH INTL</td>\n",
       "      <td>TMAX</td>\n",
       "      <td>2022</td>\n",
       "      <td>194.0</td>\n",
       "    </tr>\n",
       "    <tr>\n",
       "      <th>1510</th>\n",
       "      <td>NZM00093929</td>\n",
       "      <td>ENDERBY ISLAND AWS</td>\n",
       "      <td>TMAX</td>\n",
       "      <td>2022</td>\n",
       "      <td>139.0</td>\n",
       "    </tr>\n",
       "    <tr>\n",
       "      <th>1511</th>\n",
       "      <td>NZM00093929</td>\n",
       "      <td>ENDERBY ISLAND AWS</td>\n",
       "      <td>TMIN</td>\n",
       "      <td>2022</td>\n",
       "      <td>84.0</td>\n",
       "    </tr>\n",
       "  </tbody>\n",
       "</table>\n",
       "<p>944542 rows × 5 columns</p>\n",
       "</div>"
      ],
      "text/plain": [
       "               ID                 NAME ELEMENT  YEAR  VALUE\n",
       "0     NZ000936150   HOKITIKA AERODROME    TMAX  2010    NaN\n",
       "1     NZM00093110    AUCKLAND AERO AWS    TMAX  2010    NaN\n",
       "2     NZM00093110    AUCKLAND AERO AWS    TMIN  2010    NaN\n",
       "3     NZM00093678             KAIKOURA    TMAX  2010    NaN\n",
       "4     NZM00093678             KAIKOURA    TMIN  2010    NaN\n",
       "...           ...                  ...     ...   ...    ...\n",
       "1507  NZM00093439  WELLINGTON AERO AWS    TMAX  2022  186.0\n",
       "1508  NZM00093678             KAIKOURA    TMAX  2022  172.0\n",
       "1509  NZM00093781    CHRISTCHURCH INTL    TMAX  2022  194.0\n",
       "1510  NZM00093929   ENDERBY ISLAND AWS    TMAX  2022  139.0\n",
       "1511  NZM00093929   ENDERBY ISLAND AWS    TMIN  2022   84.0\n",
       "\n",
       "[944542 rows x 5 columns]"
      ]
     },
     "execution_count": 4,
     "metadata": {},
     "output_type": "execute_result"
    }
   ],
   "source": [
    "Temp_NZ"
   ]
  },
  {
   "cell_type": "code",
   "execution_count": 5,
   "id": "ca0a1b36-1cdd-4050-bb34-9c26a3715d2f",
   "metadata": {},
   "outputs": [],
   "source": [
    "Temp_NZ.VALUE = Temp_NZ.VALUE / 10\n"
   ]
  },
  {
   "cell_type": "code",
   "execution_count": 6,
   "id": "42b1740f-3818-45b3-85c9-b4d9c84ca3c6",
   "metadata": {},
   "outputs": [],
   "source": [
    "stations = Temp_NZ[\"NAME\"].drop_duplicates().tolist()\n"
   ]
  },
  {
   "cell_type": "code",
   "execution_count": 7,
   "id": "82aacfe9-1b7f-4211-810e-35a70594735a",
   "metadata": {
    "tags": []
   },
   "outputs": [
    {
     "data": {
      "text/plain": [
       "['HOKITIKA AERODROME',\n",
       " 'AUCKLAND AERO AWS',\n",
       " 'KAIKOURA',\n",
       " 'GISBORNE AERODROME',\n",
       " 'CHRISTCHURCH INTL',\n",
       " 'WELLINGTON AERO AWS',\n",
       " 'INVERCARGILL AIRPOR',\n",
       " 'PARAPARAUMU AWS',\n",
       " 'NEW PLYMOUTH AWS',\n",
       " 'KAITAIA',\n",
       " 'CHATHAM ISLANDS AWS',\n",
       " 'RAOUL ISL/KERMADEC',\n",
       " 'TARA HILLS',\n",
       " 'CAMPBELL ISLAND AWS',\n",
       " 'ENDERBY ISLAND AWS']"
      ]
     },
     "execution_count": 7,
     "metadata": {},
     "output_type": "execute_result"
    }
   ],
   "source": [
    "stations"
   ]
  },
  {
   "cell_type": "code",
   "execution_count": 8,
   "id": "2d4b5b9f-8ab6-4b9c-ab6c-f166e225ff5b",
   "metadata": {},
   "outputs": [
    {
     "data": {
      "text/plain": [
       "15"
      ]
     },
     "execution_count": 8,
     "metadata": {},
     "output_type": "execute_result"
    }
   ],
   "source": [
    "len(stations)"
   ]
  },
  {
   "cell_type": "code",
   "execution_count": 9,
   "id": "7d1b10be-ba21-40ee-8dcb-4bc9682193f6",
   "metadata": {},
   "outputs": [],
   "source": [
    "station_df = pd.pivot_table(Temp_NZ,index='YEAR',columns = 'ELEMENT',values='VALUE')"
   ]
  },
  {
   "cell_type": "code",
   "execution_count": 10,
   "id": "92c3a655-8e8f-4255-b286-35bc85bfb7e4",
   "metadata": {},
   "outputs": [],
   "source": [
    "def plot(i,NAME1):\n",
    "    station_df = Temp_NZ.loc[Temp_NZ[\"NAME\"] == NAME1]\n",
    "    station_df = pd.pivot_table(station_df,index='YEAR',columns = 'ELEMENT',values='VALUE')\n",
    "    ax = fig.add_subplot(5,3,(1+i))\n",
    "    plt.title(NAME1)\n",
    "    ax.set_title(NAME1,size = 50)\n",
    "    ax.plot(station_df.index,station_df['TMIN'],color='blue', label = 'Minimum', linewidth=5)\n",
    "    ax.plot(station_df.index,station_df['TMAX'],color='red', label = 'Maximum', linewidth=5)  \n",
    "    ax.set_xlabel('Year', size = 30)\n",
    "    ax.set_ylabel('Temperature in $^\\circ$C', size = 30)\n",
    "    ax.tick_params(axis='both', which='both', labelsize=25)\n",
    "    ax.legend(title=(\"Temperature\"))\n",
    "    plt.xlabel('Year')\n",
    "    plt.ylabel('Temperature')\n",
    "    "
   ]
  },
  {
   "cell_type": "code",
   "execution_count": 14,
   "id": "395c9a71-50b1-454f-b412-93bdb2f73caf",
   "metadata": {},
   "outputs": [
    {
     "data": {
      "text/plain": [
       "<Figure size 4320x4320 with 0 Axes>"
      ]
     },
     "metadata": {},
     "output_type": "display_data"
    }
   ],
   "source": [
    "fig = plt.figure(figsize=(60,60),linewidth=100)"
   ]
  },
  {
   "cell_type": "code",
   "execution_count": 15,
   "id": "3be5651b-bc13-44af-8174-f02ebee7ec6f",
   "metadata": {},
   "outputs": [
    {
     "data": {
      "image/png": "[encoded data removed]",
      "text/plain": [
       "<Figure size 432x288 with 1 Axes>"
      ]
     },
     "metadata": {
      "needs_background": "light"
     },
     "output_type": "display_data"
    }
   ],
   "source": [
    "for i,NAME1 in enumerate(stations):\n",
    "    plot(i,NAME1)  \n",
    "    plt.tight_layout()    "
   ]
  },
  {
   "cell_type": "code",
   "execution_count": 16,
   "id": "fd960cbc-1a66-43af-877a-3d52d583a00f",
   "metadata": {},
   "outputs": [],
   "source": [
    "fig.savefig(\"stations.png\")"
   ]
  },
  {
   "cell_type": "code",
   "execution_count": 14,
   "id": "a5acd94d-c910-4139-ac7c-d1462e9a4178",
   "metadata": {},
   "outputs": [],
   "source": [
    "Temp_NZ_df = Temp_NZ.pivot_table(index='YEAR', columns='ELEMENT', values ='VALUE')"
   ]
  },
  {
   "cell_type": "code",
   "execution_count": 15,
   "id": "c816f700-2680-45ee-a29c-0a311276eb57",
   "metadata": {},
   "outputs": [
    {
     "data": {
      "text/plain": [
       "21.844955489614243"
      ]
     },
     "execution_count": 15,
     "metadata": {},
     "output_type": "execute_result"
    }
   ],
   "source": [
    "Temp_NZ_df['TMAX'].max()"
   ]
  },
  {
   "cell_type": "code",
   "execution_count": 16,
   "id": "62aebeb4-7593-43b8-9235-dbde9da3b4b7",
   "metadata": {
    "tags": []
   },
   "outputs": [
    {
     "data": {
      "text/plain": [
       "15.17377948436643"
      ]
     },
     "execution_count": 16,
     "metadata": {},
     "output_type": "execute_result"
    }
   ],
   "source": [
    "\n",
    "Temp_NZ_df['TMAX'].min()\n"
   ]
  },
  {
   "cell_type": "code",
   "execution_count": 17,
   "id": "20cc69c5-d298-45d7-9608-e8817e566ecf",
   "metadata": {},
   "outputs": [
    {
     "data": {
      "text/plain": [
       "14.803678929765887"
      ]
     },
     "execution_count": 17,
     "metadata": {},
     "output_type": "execute_result"
    }
   ],
   "source": [
    "Temp_NZ_df['TMIN'].max()"
   ]
  },
  {
   "cell_type": "code",
   "execution_count": 18,
   "id": "231cea7b-3abe-400f-9248-48afb6018842",
   "metadata": {},
   "outputs": [
    {
     "data": {
      "text/plain": [
       "7.206195175438597"
      ]
     },
     "execution_count": 18,
     "metadata": {},
     "output_type": "execute_result"
    }
   ],
   "source": [
    "Temp_NZ_df['TMIN'].min()"
   ]
  },
  {
   "cell_type": "code",
   "execution_count": 24,
   "id": "78700096-0c00-4eea-a37e-0da15272448f",
   "metadata": {},
   "outputs": [
    {
     "data": {
      "text/plain": [
       "Text(0.5, 1.0, 'Average Temperature in New Zealand')"
      ]
     },
     "execution_count": 24,
     "metadata": {},
     "output_type": "execute_result"
    },
    {
     "data": {
      "image/png": "[encoded data removed]",
      "text/plain": [
       "<Figure size 864x432 with 1 Axes>"
      ]
     },
     "metadata": {
      "needs_background": "light"
     },
     "output_type": "display_data"
    }
   ],
   "source": [
    "fig1, ax = plt.subplots(figsize=(12, 6))\n",
    "ax.plot(Temp_NZ_df['TMIN'],color='blue', label = 'Min', linewidth=3)\n",
    "ax.plot(Temp_NZ_df['TMAX'],color='red', label = 'Max', linewidth=3)\n",
    "ax.tick_params(axis='both', which='both', labelsize=13)\n",
    "plt.xlabel('Years', size = 16)\n",
    "plt.ylabel('Temperature in $^\\circ$C', size = 16)\n",
    "plt.legend(title = \"Avg Temp\",\n",
    "           loc='center left', bbox_to_anchor=(1, 0.5))\n",
    "plt.title('Average Temperature in New Zealand', size = 16)"
   ]
  },
  {
   "cell_type": "code",
   "execution_count": 25,
   "id": "1770e43b-6af1-4b10-906f-c2b60d4b7140",
   "metadata": {},
   "outputs": [],
   "source": [
    "fig1.savefig(\"Temp_NZ.png\")  "
   ]
  },
  {
   "cell_type": "code",
   "execution_count": 18,
   "id": "9199a507-9b43-4b37-a346-f7ff36ef1d2a",
   "metadata": {},
   "outputs": [
    {
     "data": {
      "image/png": "[encoded data removed]",
      "text/plain": [
       "<Figure size 432x288 with 1 Axes>"
      ]
     },
     "metadata": {},
     "output_type": "display_data"
    }
   ],
   "source": [
    "# Pie chart, where the slices will be ordered and plotted counter-clockwise:\n",
    "labels = 'PRCP', 'TMAX', 'TMIN', 'SNOW', 'SNWD'\n",
    "sizes = [1043785667, 445623712, 444271327, 341985067, 289981374]\n",
    "explode = (0.1, 0, 0, 0, 0)  \n",
    "\n",
    "fig3, ax = plt.subplots()\n",
    "ax.pie(sizes, explode=explode, labels=labels, autopct='%1.1f%%',\n",
    "        shadow=True, startangle=90)\n",
    "ax.axis('equal')  # Equal aspect ratio ensures that pie is drawn as a circle.\n",
    "plt.title('Observations in 5 Core Elements')\n",
    "plt.show()\n",
    "fig3.savefig(\"5CoreElements.png\")"
   ]
  },
  {
   "cell_type": "code",
   "execution_count": 2,
   "id": "614c729d-8dd6-4ca7-a3a2-7f28c78e4ddc",
   "metadata": {},
   "outputs": [
    {
     "data": {
      "image/png": "[encoded data removed]",
      "text/plain": [
       "<Figure size 864x360 with 1 Axes>"
      ]
     },
     "metadata": {
      "needs_background": "light"
     },
     "output_type": "display_data"
    }
   ],
   "source": [
    "import matplotlib.ticker as tkr  \n",
    "\n",
    "\n",
    "filesize_df = pd.read_csv('filesize.csv')\n",
    "def sizeof_fmt(x, pos):\n",
    "    if x<0:\n",
    "        return \"\"\n",
    "    for x_unit in ['bytes','KB', 'MB', 'GB']:\n",
    "        if x < 1024.0:\n",
    "            return \"%3.1f %s\" % (x, x_unit)\n",
    "        x /= 1024.0\n",
    "\n",
    "fig2, ax = plt.subplots(figsize=(12, 5))\n",
    "ax.plot(filesize_df['Year'], filesize_df['Size'],color='red', linewidth=3)\n",
    "ax.yaxis.set_major_formatter(tkr.FuncFormatter(sizeof_fmt))\n",
    "ax.tick_params(axis='both', which='both', labelsize=14)\n",
    "plt.xlabel('Years', size = 20)\n",
    "plt.ylabel('File size', size = 20)\n",
    "plt.title('Daily climate summaries - compressed file sizes from year 1763 to 2022', size = 16)\n",
    "plt.show()\n",
    "fig2.savefig(\"FileSize.png\")"
   ]
  },
  {
   "cell_type": "code",
   "execution_count": null,
   "id": "fc0e683c-d25f-4c65-abc3-4b9f04fa4a9d",
   "metadata": {},
   "outputs": [],
   "source": []
  },
  {
   "cell_type": "code",
   "execution_count": null,
   "id": "64f7b738-6411-44b3-9a67-088940bd9928",
   "metadata": {},
   "outputs": [],
   "source": []
  }
 ],
 "metadata": {
  "kernelspec": {
   "display_name": "Python 3 (ipykernel)",
   "language": "python",
   "name": "python3"
  },
  "language_info": {
   "codemirror_mode": {
    "name": "ipython",
    "version": 3
   },
   "file_extension": ".py",
   "mimetype": "text/x-python",
   "name": "python",
   "nbconvert_exporter": "python",
   "pygments_lexer": "ipython3",
   "version": "3.9.6"
  }
 },
 "nbformat": 4,
 "nbformat_minor": 5
}
